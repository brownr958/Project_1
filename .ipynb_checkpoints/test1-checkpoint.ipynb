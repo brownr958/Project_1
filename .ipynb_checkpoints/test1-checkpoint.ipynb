{
 "cells": [
  {
   "cell_type": "code",
   "execution_count": 2,
   "metadata": {},
   "outputs": [],
   "source": [
    "import requests\n",
    "import json\n",
    "import pandas as pd\n",
    "from config import api_key\n",
    "from pprint import pprint"
   ]
  },
  {
   "cell_type": "code",
   "execution_count": 3,
   "metadata": {},
   "outputs": [],
   "source": [
    "# Taking a look at the data base\n",
    "url = 'https://exoplanetarchive.ipac.caltech.edu/cgi-bin/nstedAPI/nph-nstedAPI?table=exoplanets'\n",
    "api_key = \"&apikey=\""
   ]
  },
  {
   "cell_type": "code",
   "execution_count": 20,
   "metadata": {},
   "outputs": [
    {
     "name": "stdout",
     "output_type": "stream",
     "text": [
      "https://exoplanetarchive.ipac.caltech.edu/cgi-bin/nstedAPI/nph-nstedAPI?table=exoplanets&apikey=\n"
     ]
    }
   ],
   "source": [
    "print(url + api_key)\n",
    "response = requests.get(url + api_key)"
   ]
  },
  {
   "cell_type": "code",
   "execution_count": 39,
   "metadata": {
    "scrolled": true
   },
   "outputs": [
    {
     "data": {
      "text/html": [
       "<div>\n",
       "<style scoped>\n",
       "    .dataframe tbody tr th:only-of-type {\n",
       "        vertical-align: middle;\n",
       "    }\n",
       "\n",
       "    .dataframe tbody tr th {\n",
       "        vertical-align: top;\n",
       "    }\n",
       "\n",
       "    .dataframe thead th {\n",
       "        text-align: right;\n",
       "    }\n",
       "</style>\n",
       "<table border=\"1\" class=\"dataframe\">\n",
       "  <thead>\n",
       "    <tr style=\"text-align: right;\">\n",
       "      <th></th>\n",
       "      <th>pl_hostname</th>\n",
       "      <th>pl_letter</th>\n",
       "      <th>pl_name</th>\n",
       "      <th>pl_discmethod</th>\n",
       "      <th>pl_controvflag</th>\n",
       "      <th>pl_pnum</th>\n",
       "      <th>pl_orbper</th>\n",
       "      <th>pl_orbpererr1</th>\n",
       "      <th>pl_orbpererr2</th>\n",
       "      <th>pl_orbperlim</th>\n",
       "      <th>...</th>\n",
       "      <th>st_masslim</th>\n",
       "      <th>st_massn</th>\n",
       "      <th>st_rad</th>\n",
       "      <th>st_raderr1</th>\n",
       "      <th>st_raderr2</th>\n",
       "      <th>st_radlim</th>\n",
       "      <th>st_radn</th>\n",
       "      <th>pl_nnotes</th>\n",
       "      <th>rowupdate</th>\n",
       "      <th>pl_facility</th>\n",
       "    </tr>\n",
       "  </thead>\n",
       "  <tbody>\n",
       "    <tr>\n",
       "      <th>3839</th>\n",
       "      <td>Kepler-1649</td>\n",
       "      <td>c</td>\n",
       "      <td>Kepler-1649 c</td>\n",
       "      <td>Transit</td>\n",
       "      <td>0</td>\n",
       "      <td>2</td>\n",
       "      <td>19.53527</td>\n",
       "      <td>0.0001</td>\n",
       "      <td>-0.0001</td>\n",
       "      <td>0.0</td>\n",
       "      <td>...</td>\n",
       "      <td>0.0</td>\n",
       "      <td>2</td>\n",
       "      <td>0.23</td>\n",
       "      <td>0.0</td>\n",
       "      <td>-0.0</td>\n",
       "      <td>0.0</td>\n",
       "      <td>2</td>\n",
       "      <td>0</td>\n",
       "      <td>2020-04-23</td>\n",
       "      <td>Kepler</td>\n",
       "    </tr>\n",
       "  </tbody>\n",
       "</table>\n",
       "<p>1 rows × 82 columns</p>\n",
       "</div>"
      ],
      "text/plain": [
       "      pl_hostname pl_letter        pl_name pl_discmethod  pl_controvflag  \\\n",
       "3839  Kepler-1649         c  Kepler-1649 c       Transit               0   \n",
       "\n",
       "      pl_pnum  pl_orbper  pl_orbpererr1  pl_orbpererr2  pl_orbperlim  ...  \\\n",
       "3839        2   19.53527         0.0001        -0.0001           0.0  ...   \n",
       "\n",
       "      st_masslim  st_massn  st_rad  st_raderr1  st_raderr2  st_radlim  \\\n",
       "3839         0.0         2    0.23         0.0        -0.0        0.0   \n",
       "\n",
       "      st_radn  pl_nnotes   rowupdate  pl_facility  \n",
       "3839        2          0  2020-04-23       Kepler  \n",
       "\n",
       "[1 rows x 82 columns]"
      ]
     },
     "execution_count": 39,
     "metadata": {},
     "output_type": "execute_result"
    }
   ],
   "source": [
    "data = pd.read_csv(url)\n",
    "data1 = data['pl_name']\n",
    "data.loc[data['pl_name'] == 'Kepler-1649 c']\n"
   ]
  }
 ],
 "metadata": {
  "kernelspec": {
   "display_name": "Python 3",
   "language": "python",
   "name": "python3"
  },
  "language_info": {
   "codemirror_mode": {
    "name": "ipython",
    "version": 3
   },
   "file_extension": ".py",
   "mimetype": "text/x-python",
   "name": "python",
   "nbconvert_exporter": "python",
   "pygments_lexer": "ipython3",
   "version": "3.8.3"
  }
 },
 "nbformat": 4,
 "nbformat_minor": 4
}
