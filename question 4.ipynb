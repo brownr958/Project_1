{
 "cells": [
  {
   "cell_type": "code",
   "execution_count": 1,
   "metadata": {},
   "outputs": [],
   "source": [
    "import requests\n",
    "import pandas as pd\n",
    "import matplotlib.pyplot as plt\n",
    "import scipy.stats as stats\n",
    "from scipy.stats import linregress"
   ]
  },
  {
   "cell_type": "code",
   "execution_count": 2,
   "metadata": {},
   "outputs": [],
   "source": [
    "# Taking a look at the data base\n",
    "composite_url = 'https://exoplanetarchive.ipac.caltech.edu/cgi-bin/nstedAPI/nph-nstedAPI?table=compositepars'\n",
    "api_key = \"&apikey=\""
   ]
  },
  {
   "cell_type": "code",
   "execution_count": 3,
   "metadata": {},
   "outputs": [
    {
     "name": "stdout",
     "output_type": "stream",
     "text": [
      "https://exoplanetarchive.ipac.caltech.edu/cgi-bin/nstedAPI/nph-nstedAPI?table=compositepars&apikey=\n"
     ]
    }
   ],
   "source": [
    "# Printing url\n",
    "print(composite_url + api_key)"
   ]
  },
  {
   "cell_type": "code",
   "execution_count": 4,
   "metadata": {
    "scrolled": false
   },
   "outputs": [
    {
     "data": {
      "text/plain": [
       "fpl_hostname    332\n",
       "fpl_letter      332\n",
       "fpl_name        332\n",
       "fpl_orbper      332\n",
       "fpl_bmasse      332\n",
       "fpl_rade        332\n",
       "fpl_dens        332\n",
       "fpl_eqt         332\n",
       "fpl_insol       332\n",
       "fst_optmag      332\n",
       "fst_teff        332\n",
       "fst_mass        332\n",
       "fst_rad         332\n",
       "fst_age         332\n",
       "dtype: int64"
      ]
     },
     "execution_count": 4,
     "metadata": {},
     "output_type": "execute_result"
    }
   ],
   "source": [
    "# Pulling necessary columns from NASA CSV and cleaning data with null values\n",
    "nasa_original_df = pd.read_csv(composite_url)\n",
    "nasa_filter_df = nasa_original_df[[\"fpl_hostname\",\"fpl_letter\",\"fpl_name\",\"fpl_orbper\",\"fpl_bmasse\",\"fpl_rade\",\"fpl_dens\",\"fpl_eqt\",\"fpl_insol\",\"fst_optmag\",\"fst_teff\",\"fst_mass\",\"fst_rad\",\"fst_age\"]]\n",
    "nasa_clean_df = nasa_filter_df.dropna(how='any')\n",
    "nasa_clean_df.count()"
   ]
  },
  {
   "cell_type": "code",
   "execution_count": 5,
   "metadata": {},
   "outputs": [
    {
     "data": {
      "text/html": [
       "<div>\n",
       "<style scoped>\n",
       "    .dataframe tbody tr th:only-of-type {\n",
       "        vertical-align: middle;\n",
       "    }\n",
       "\n",
       "    .dataframe tbody tr th {\n",
       "        vertical-align: top;\n",
       "    }\n",
       "\n",
       "    .dataframe thead th {\n",
       "        text-align: right;\n",
       "    }\n",
       "</style>\n",
       "<table border=\"1\" class=\"dataframe\">\n",
       "  <thead>\n",
       "    <tr style=\"text-align: right;\">\n",
       "      <th></th>\n",
       "      <th>Name</th>\n",
       "      <th>Type</th>\n",
       "      <th>Mass (ME)</th>\n",
       "      <th>Radius (RE)</th>\n",
       "      <th>Flux (SE)</th>\n",
       "      <th>Teq (K)</th>\n",
       "      <th>Period (days)</th>\n",
       "      <th>Distance (ly)</th>\n",
       "      <th>ESI</th>\n",
       "    </tr>\n",
       "  </thead>\n",
       "  <tbody>\n",
       "    <tr>\n",
       "      <th>0</th>\n",
       "      <td>Teegarden's Star b</td>\n",
       "      <td>M-Warm Terran</td>\n",
       "      <td>1.05</td>\n",
       "      <td>NaN</td>\n",
       "      <td>1.15</td>\n",
       "      <td>264</td>\n",
       "      <td>4.9</td>\n",
       "      <td>12.0</td>\n",
       "      <td>0.95</td>\n",
       "    </tr>\n",
       "    <tr>\n",
       "      <th>1</th>\n",
       "      <td>TOI-700 d</td>\n",
       "      <td>M-Warm Terran</td>\n",
       "      <td>NaN</td>\n",
       "      <td>1.14</td>\n",
       "      <td>0.87</td>\n",
       "      <td>246</td>\n",
       "      <td>37.4</td>\n",
       "      <td>101.0</td>\n",
       "      <td>0.93</td>\n",
       "    </tr>\n",
       "    <tr>\n",
       "      <th>2</th>\n",
       "      <td>K2-72 e</td>\n",
       "      <td>M-Warm Terran</td>\n",
       "      <td>NaN</td>\n",
       "      <td>1.29</td>\n",
       "      <td>1.11</td>\n",
       "      <td>261</td>\n",
       "      <td>24.2</td>\n",
       "      <td>217.0</td>\n",
       "      <td>0.90</td>\n",
       "    </tr>\n",
       "    <tr>\n",
       "      <th>3</th>\n",
       "      <td>TRAPPIST-1 d</td>\n",
       "      <td>M-Warm Subterran</td>\n",
       "      <td>0.41</td>\n",
       "      <td>0.77</td>\n",
       "      <td>1.14</td>\n",
       "      <td>263</td>\n",
       "      <td>4.0</td>\n",
       "      <td>41.0</td>\n",
       "      <td>0.90</td>\n",
       "    </tr>\n",
       "    <tr>\n",
       "      <th>4</th>\n",
       "      <td>Kepler-1649 c</td>\n",
       "      <td>M-Warm Terran</td>\n",
       "      <td>NaN</td>\n",
       "      <td>1.06</td>\n",
       "      <td>0.75</td>\n",
       "      <td>237</td>\n",
       "      <td>19.5</td>\n",
       "      <td>301.0</td>\n",
       "      <td>0.90</td>\n",
       "    </tr>\n",
       "  </tbody>\n",
       "</table>\n",
       "</div>"
      ],
      "text/plain": [
       "                 Name              Type  Mass (ME)  Radius (RE)  Flux (SE)  \\\n",
       "0  Teegarden's Star b     M-Warm Terran       1.05          NaN       1.15   \n",
       "1           TOI-700 d     M-Warm Terran        NaN         1.14       0.87   \n",
       "2             K2-72 e     M-Warm Terran        NaN         1.29       1.11   \n",
       "3        TRAPPIST-1 d  M-Warm Subterran       0.41         0.77       1.14   \n",
       "4       Kepler-1649 c     M-Warm Terran        NaN         1.06       0.75   \n",
       "\n",
       "   Teq (K)  Period (days)  Distance (ly)   ESI  \n",
       "0      264            4.9           12.0  0.95  \n",
       "1      246           37.4          101.0  0.93  \n",
       "2      261           24.2          217.0  0.90  \n",
       "3      263            4.0           41.0  0.90  \n",
       "4      237           19.5          301.0  0.90  "
      ]
     },
     "execution_count": 5,
     "metadata": {},
     "output_type": "execute_result"
    }
   ],
   "source": [
    "# Pulling reference data in as a CSV and reading it as a DataFrame\n",
    "phl = \"PHL Habitable Exoplanets.csv\"\n",
    "phl_df = pd.read_csv(phl)\n",
    "phl_df.head()"
   ]
  },
  {
   "cell_type": "code",
   "execution_count": 6,
   "metadata": {},
   "outputs": [
    {
     "name": "stdout",
     "output_type": "stream",
     "text": [
      "[\"Teegarden's Star b\", 'TOI-700 d', 'K2-72 e', 'TRAPPIST-1 d', 'Kepler-1649 c', 'Proxima Cen b', 'GJ 1061 d', 'GJ 1061 c', 'Ross 128 b', 'GJ 273 b', 'TRAPPIST-1 e', 'Kepler-442 b', 'Wolf 1061 c', 'GJ 667 C c', 'GJ 667 C f', 'Kepler-1229 b', 'TRAPPIST-1 f', 'Kepler-62 f', \"Teegarden's Star c\", 'Kepler-186 f', 'GJ 667 C e', 'tau Cet f', 'TRAPPIST-1 g', 'GJ 682 b', 'Kepler-452 b', 'Kepler-62 e', 'Kepler-1652 b', 'Kepler-1544 b', 'Kepler-296 e', 'Kepler-283 c', 'K2-296 b', 'Kepler-1410 b', 'K2-3 d', 'Kepler-1638 b', 'Kepler-296 f', 'Kepler-440 b', 'Kepler-705 b', 'Kepler-1653 b', 'GJ 832 c', 'Kepler-1606 b', 'Kepler-1090 b', 'Kepler-61 b', 'K2-18 b', 'Kepler-443 b', 'Kepler-1701 b', 'Kepler-22 b', 'LHS 1140 b', 'Kepler-1552 b', 'K2-9 b', 'Kepler-1540 b', 'GJ 180 c', 'Kepler-1632 b', 'Kepler-298 d', 'GJ 163 c', 'HD 40307 g', 'K2-288 B b', 'GJ 3293 d', 'GJ 229 A c', 'Kepler-174 d', 'GJ 357 d']\n"
     ]
    }
   ],
   "source": [
    "# Converting Name column in reference data to a list for for loop check\n",
    "phl_names = phl_df[\"Name\"].tolist()\n",
    "print(phl_names)"
   ]
  },
  {
   "cell_type": "code",
   "execution_count": 7,
   "metadata": {},
   "outputs": [
    {
     "name": "stdout",
     "output_type": "stream",
     "text": [
      "22\n"
     ]
    }
   ],
   "source": [
    "# Checking to see how many exoplanets in reference data remain in NASA data\n",
    "phl_name_list = []\n",
    "for x in phl_names:\n",
    "    if not (nasa_clean_df.loc[nasa_clean_df[\"fpl_name\"] == x].empty):\n",
    "        phl_name_list.append(x)\n",
    "print(len(phl_name_list))"
   ]
  },
  {
   "cell_type": "code",
   "execution_count": 8,
   "metadata": {},
   "outputs": [
    {
     "data": {
      "text/html": [
       "<div>\n",
       "<style scoped>\n",
       "    .dataframe tbody tr th:only-of-type {\n",
       "        vertical-align: middle;\n",
       "    }\n",
       "\n",
       "    .dataframe tbody tr th {\n",
       "        vertical-align: top;\n",
       "    }\n",
       "\n",
       "    .dataframe thead th {\n",
       "        text-align: right;\n",
       "    }\n",
       "</style>\n",
       "<table border=\"1\" class=\"dataframe\">\n",
       "  <thead>\n",
       "    <tr style=\"text-align: right;\">\n",
       "      <th></th>\n",
       "      <th>fpl_hostname</th>\n",
       "      <th>fpl_name</th>\n",
       "      <th>fpl_orbper</th>\n",
       "      <th>fpl_bmasse</th>\n",
       "      <th>fpl_rade</th>\n",
       "      <th>fpl_dens</th>\n",
       "      <th>fpl_eqt</th>\n",
       "      <th>fpl_insol</th>\n",
       "      <th>fst_optmag</th>\n",
       "      <th>fst_teff</th>\n",
       "      <th>fst_mass</th>\n",
       "      <th>fst_rad</th>\n",
       "      <th>fst_age</th>\n",
       "      <th>ESI</th>\n",
       "    </tr>\n",
       "  </thead>\n",
       "  <tbody>\n",
       "    <tr>\n",
       "      <th>0</th>\n",
       "      <td>HAT-P-9</td>\n",
       "      <td>HAT-P-9 b</td>\n",
       "      <td>3.922811</td>\n",
       "      <td>238.05467</td>\n",
       "      <td>15.614</td>\n",
       "      <td>0.342</td>\n",
       "      <td>1540.0</td>\n",
       "      <td>931.000</td>\n",
       "      <td>12.297</td>\n",
       "      <td>6350.0</td>\n",
       "      <td>1.28</td>\n",
       "      <td>1.34</td>\n",
       "      <td>1.6</td>\n",
       "      <td>NaN</td>\n",
       "    </tr>\n",
       "    <tr>\n",
       "      <th>1</th>\n",
       "      <td>HAT-P-25</td>\n",
       "      <td>HAT-P-25 b</td>\n",
       "      <td>3.652815</td>\n",
       "      <td>180.84527</td>\n",
       "      <td>12.722</td>\n",
       "      <td>0.483</td>\n",
       "      <td>1182.0</td>\n",
       "      <td>325.000</td>\n",
       "      <td>13.190</td>\n",
       "      <td>5519.0</td>\n",
       "      <td>1.01</td>\n",
       "      <td>0.92</td>\n",
       "      <td>3.2</td>\n",
       "      <td>NaN</td>\n",
       "    </tr>\n",
       "    <tr>\n",
       "      <th>2</th>\n",
       "      <td>HAT-P-29</td>\n",
       "      <td>HAT-P-29 b</td>\n",
       "      <td>5.723190</td>\n",
       "      <td>279.69040</td>\n",
       "      <td>13.115</td>\n",
       "      <td>0.790</td>\n",
       "      <td>1271.0</td>\n",
       "      <td>433.000</td>\n",
       "      <td>11.900</td>\n",
       "      <td>6087.0</td>\n",
       "      <td>1.45</td>\n",
       "      <td>1.30</td>\n",
       "      <td>2.2</td>\n",
       "      <td>NaN</td>\n",
       "    </tr>\n",
       "    <tr>\n",
       "      <th>3</th>\n",
       "      <td>HAT-P-32</td>\n",
       "      <td>HAT-P-32 b</td>\n",
       "      <td>2.150008</td>\n",
       "      <td>216.12440</td>\n",
       "      <td>22.194</td>\n",
       "      <td>0.108</td>\n",
       "      <td>1836.0</td>\n",
       "      <td>1841.000</td>\n",
       "      <td>11.289</td>\n",
       "      <td>6001.0</td>\n",
       "      <td>1.13</td>\n",
       "      <td>1.37</td>\n",
       "      <td>2.7</td>\n",
       "      <td>NaN</td>\n",
       "    </tr>\n",
       "    <tr>\n",
       "      <th>4</th>\n",
       "      <td>Kepler-117</td>\n",
       "      <td>Kepler-117 b</td>\n",
       "      <td>18.795923</td>\n",
       "      <td>29.87500</td>\n",
       "      <td>8.059</td>\n",
       "      <td>0.300</td>\n",
       "      <td>984.0</td>\n",
       "      <td>157.541</td>\n",
       "      <td>14.247</td>\n",
       "      <td>6150.0</td>\n",
       "      <td>1.13</td>\n",
       "      <td>1.61</td>\n",
       "      <td>5.3</td>\n",
       "      <td>NaN</td>\n",
       "    </tr>\n",
       "  </tbody>\n",
       "</table>\n",
       "</div>"
      ],
      "text/plain": [
       "  fpl_hostname      fpl_name  fpl_orbper  fpl_bmasse  fpl_rade  fpl_dens  \\\n",
       "0      HAT-P-9     HAT-P-9 b    3.922811   238.05467    15.614     0.342   \n",
       "1     HAT-P-25    HAT-P-25 b    3.652815   180.84527    12.722     0.483   \n",
       "2     HAT-P-29    HAT-P-29 b    5.723190   279.69040    13.115     0.790   \n",
       "3     HAT-P-32    HAT-P-32 b    2.150008   216.12440    22.194     0.108   \n",
       "4   Kepler-117  Kepler-117 b   18.795923    29.87500     8.059     0.300   \n",
       "\n",
       "   fpl_eqt  fpl_insol  fst_optmag  fst_teff  fst_mass  fst_rad  fst_age  ESI  \n",
       "0   1540.0    931.000      12.297    6350.0      1.28     1.34      1.6  NaN  \n",
       "1   1182.0    325.000      13.190    5519.0      1.01     0.92      3.2  NaN  \n",
       "2   1271.0    433.000      11.900    6087.0      1.45     1.30      2.2  NaN  \n",
       "3   1836.0   1841.000      11.289    6001.0      1.13     1.37      2.7  NaN  \n",
       "4    984.0    157.541      14.247    6150.0      1.13     1.61      5.3  NaN  "
      ]
     },
     "execution_count": 8,
     "metadata": {},
     "output_type": "execute_result"
    }
   ],
   "source": [
    "# Merging reference data and NASA data\n",
    "phl_esi_df = phl_df[[\"Name\",\"ESI\"]]\n",
    "nasa_merge_df = pd.merge(nasa_clean_df, phl_esi_df,left_on=\"fpl_name\",right_on=\"Name\",how=\"left\")\n",
    "\n",
    "# Pulling necessary columns from merged DF\n",
    "nasa_clean_merge_df = nasa_merge_df[[\"fpl_hostname\",\"fpl_name\",\"fpl_orbper\",\"fpl_bmasse\",\"fpl_rade\",\"fpl_dens\",\"fpl_eqt\",\"fpl_insol\",\"fst_optmag\",\"fst_teff\",\"fst_mass\",\"fst_rad\",\"fst_age\",\"ESI\"]]\n",
    "nasa_clean_merge_df.head(5)"
   ]
  },
  {
   "cell_type": "code",
   "execution_count": 9,
   "metadata": {},
   "outputs": [],
   "source": [
    "#Isolated the columns needed for the graphs\n",
    "phl_esi_df = phl_df[[\"Name\",\"ESI\"]]\n",
    "graphs = pd.merge(nasa_filter_df, phl_esi_df,left_on=\"fpl_name\",right_on=\"Name\",how=\"left\")\n",
    "\n",
    "#Dropped null values to make sure all data was graphed as best as it could be\n",
    "graphs2 = graphs[[\"fpl_hostname\",\"fpl_name\",\"fpl_orbper\",\"fpl_bmasse\",\"fpl_rade\",\"fpl_dens\",\"fpl_eqt\",\"fpl_insol\",\"fst_optmag\",\"fst_teff\",\"fst_mass\",\"fst_rad\",\"fst_age\",\"ESI\"]]\n",
    "dropped = graphs2.dropna(subset = ['fpl_eqt' , 'ESI'])\n",
    "dropped1 = graphs2.dropna(subset = ['fpl_insol' , 'ESI'])\n",
    "dropped2 = graphs2.dropna(subset = ['fpl_bmasse' , 'ESI'])\n",
    "dropped3 = graphs2.dropna(subset = ['fpl_rade' , 'ESI'])\n",
    "dropped4 = graphs2.dropna(subset = ['fst_age' , 'ESI'])"
   ]
  },
  {
   "cell_type": "code",
   "execution_count": 51,
   "metadata": {},
   "outputs": [],
   "source": [
    "#Setting graph number\n",
    "count = 0"
   ]
  },
  {
   "cell_type": "code",
   "execution_count": 59,
   "metadata": {},
   "outputs": [],
   "source": [
    "#Defined plot linear to condense code for each scatter plot to call later.\n",
    "def plot_linear(x_values, y_values, title, text_coor, count):\n",
    "    (slope, intercept, rvalue, pvalue, stderr) = linregress(x_values, y_values)\n",
    "    regress_values = x_values * slope + intercept\n",
    "    line_eq = \"y = \" + str(round(slope,2)) + \"x + \" + str(round(intercept,2))\n",
    "    plt.scatter(x_values,y_values)\n",
    "    plt.plot(x_values,regress_values,\"r-\")\n",
    "    plt.annotate(line_eq,text_coor,fontsize=15,color=\"red\")\n",
    "    print(f\"r-value:{rvalue**2}\")\n",
    "    plt.savefig(f\"images/scat{count}.png\")\n",
    "    plt.show()"
   ]
  },
  {
   "cell_type": "code",
   "execution_count": 60,
   "metadata": {
    "scrolled": false
   },
   "outputs": [
    {
     "name": "stdout",
     "output_type": "stream",
     "text": [
      "r-value:0.13592049805168588\n"
     ]
    },
    {
     "data": {
      "image/png": "[encoded data removed]",
      "text/plain": [
       "<Figure size 432x288 with 1 Axes>"
      ]
     },
     "metadata": {
      "needs_background": "light"
     },
     "output_type": "display_data"
    }
   ],
   "source": [
    "#Created scatter plot values and labels\n",
    "x_values = dropped['fpl_eqt']\n",
    "y_values = dropped[\"ESI\"]\n",
    "plt.xlabel('Equilibrium Temperatire')\n",
    "plt.ylabel('Earth Similiarity Index')\n",
    "plt.title('Equalibrium Temperature vs Earth Similiarity Index')\n",
    "#Called in defined plot lineafrom cell above. \n",
    "plot_linear(x_values, y_values,'Max Temp',(1, 1),1)"
   ]
  },
  {
   "cell_type": "code",
   "execution_count": 61,
   "metadata": {
    "scrolled": true
   },
   "outputs": [
    {
     "name": "stdout",
     "output_type": "stream",
     "text": [
      "r-value:0.0010782264078862925\n"
     ]
    },
    {
     "data": {
      "image/png": "[encoded data removed]",
      "text/plain": [
       "<Figure size 432x288 with 1 Axes>"
      ]
     },
     "metadata": {
      "needs_background": "light"
     },
     "output_type": "display_data"
    }
   ],
   "source": [
    "#Scatter plot 2\n",
    "x_values = dropped1['fpl_insol']\n",
    "y_values = dropped1['ESI']\n",
    "plt.xlabel('Flux Insolation')\n",
    "plt.ylabel('Earth Similarity Index')\n",
    "plt.title('Flux Insolation vs Earth Similiarity Index')\n",
    "plot_linear(x_values, y_values,'Max Temp',(1, 1), 2)"
   ]
  },
  {
   "cell_type": "code",
   "execution_count": 62,
   "metadata": {
    "scrolled": false
   },
   "outputs": [
    {
     "name": "stdout",
     "output_type": "stream",
     "text": [
      "r-value:0.026164170851190275\n"
     ]
    },
    {
     "data": {
      "image/png": "[encoded data removed]",
      "text/plain": [
       "<Figure size 432x288 with 1 Axes>"
      ]
     },
     "metadata": {
      "needs_background": "light"
     },
     "output_type": "display_data"
    }
   ],
   "source": [
    "#Scatter Plot 3\n",
    "x_values = dropped2['fpl_bmasse']\n",
    "y_values = dropped2['ESI']\n",
    "plt.scatter(x_values,y_values)\n",
    "plt.xlabel('Mass of Planet (Earths)')\n",
    "plt.ylabel('Earth Similarity Index')\n",
    "plt.title('Mass of Planet(Earths) vs Earth Similiarity Index')\n",
    "plot_linear(x_values, y_values,'Max Temp',(1, 1),3)"
   ]
  },
  {
   "cell_type": "code",
   "execution_count": 63,
   "metadata": {
    "scrolled": false
   },
   "outputs": [
    {
     "name": "stdout",
     "output_type": "stream",
     "text": [
      "r-value:0.30943699232004784\n"
     ]
    },
    {
     "data": {
      "image/png": "[encoded data removed]",
      "text/plain": [
       "<Figure size 432x288 with 1 Axes>"
      ]
     },
     "metadata": {
      "needs_background": "light"
     },
     "output_type": "display_data"
    }
   ],
   "source": [
    "# Scatter Plot 4\n",
    "x_values = dropped3['fpl_rade']\n",
    "y_values = dropped3['ESI']\n",
    "plt.scatter(x_values,y_values)\n",
    "plt.xlabel('Planet Name')\n",
    "plt.ylabel('Earth Similarity Index')\n",
    "plt.title('Radius of Planet vs Earth Similiarity Index')\n",
    "plot_linear(x_values, y_values,'Max Temp',(1, 1),4)"
   ]
  },
  {
   "cell_type": "code",
   "execution_count": 64,
   "metadata": {
    "scrolled": true
   },
   "outputs": [
    {
     "name": "stdout",
     "output_type": "stream",
     "text": [
      "r-value:0.06188465217252551\n"
     ]
    },
    {
     "data": {
      "image/png": "[encoded data removed]",
      "text/plain": [
       "<Figure size 432x288 with 1 Axes>"
      ]
     },
     "metadata": {
      "needs_background": "light"
     },
     "output_type": "display_data"
    }
   ],
   "source": [
    "#Scatter Plot 5\n",
    "x_values = dropped3['fst_optmag']\n",
    "y_values = dropped3['ESI']\n",
    "plt.scatter(x_values,y_values)\n",
    "plt.xlabel('Brightness of Star')\n",
    "plt.ylabel('Earth Similarity Index')\n",
    "plt.title('Brightness of Star vs Earth Similiarity Index')\n",
    "plot_linear(x_values, y_values,'Max Temp',(1, 1),5)"
   ]
  },
  {
   "cell_type": "code",
   "execution_count": 65,
   "metadata": {},
   "outputs": [
    {
     "name": "stdout",
     "output_type": "stream",
     "text": [
      "r-value:0.00010499153897492805\n"
     ]
    },
    {
     "data": {
      "image/png": "[encoded data removed]",
      "text/plain": [
       "<Figure size 432x288 with 1 Axes>"
      ]
     },
     "metadata": {
      "needs_background": "light"
     },
     "output_type": "display_data"
    }
   ],
   "source": [
    "#Scatter Plot 6\n",
    "x_values = dropped4['fst_age']\n",
    "y_values = dropped4['ESI']\n",
    "plt.scatter(x_values,y_values)\n",
    "plt.xlabel('Age of Star')\n",
    "plt.ylabel('Earth Similarity Index')\n",
    "plt.title('Age of Star vs Earth Similiarity Index')\n",
    "plot_linear(x_values, y_values,'Max Temp',(1, 1),6)"
   ]
  },
  {
   "cell_type": "code",
   "execution_count": 17,
   "metadata": {
    "scrolled": false
   },
   "outputs": [],
   "source": [
    "#Defined the T Test variables for the sample \n",
    "ttest = nasa_filter_df[nasa_filter_df['fpl_name'].isin(phl_names)]\n",
    "ttest_clean = ttest.dropna(subset = ['fpl_eqt'])\n",
    "ttest_mean = ttest_clean['fpl_eqt']"
   ]
  },
  {
   "cell_type": "code",
   "execution_count": 18,
   "metadata": {
    "scrolled": true
   },
   "outputs": [],
   "source": [
    "#Defined the T test variables for the entire population\n",
    "ttesto = nasa_filter_df\n",
    "ttesto_clean = ttesto.dropna(subset = ['fpl_eqt'])\n",
    "ttesto_mean = ttesto_clean['fpl_eqt'].mean()"
   ]
  },
  {
   "cell_type": "code",
   "execution_count": 19,
   "metadata": {},
   "outputs": [
    {
     "data": {
      "text/plain": [
       "Ttest_1sampResult(statistic=-126.80781328613818, pvalue=2.341821736101518e-41)"
      ]
     },
     "execution_count": 19,
     "metadata": {},
     "output_type": "execute_result"
    }
   ],
   "source": [
    "#Ran the T Test\n",
    "stats.ttest_1samp(ttest_mean, ttesto_mean)"
   ]
  },
  {
   "cell_type": "code",
   "execution_count": 20,
   "metadata": {},
   "outputs": [],
   "source": [
    "#T Test 2\n",
    "ttest1_clean = ttest.dropna(subset = ['fpl_insol'])\n",
    "ttest1_mean = ttest1_clean['fpl_insol']\n"
   ]
  },
  {
   "cell_type": "code",
   "execution_count": 21,
   "metadata": {},
   "outputs": [],
   "source": [
    "ttesto1_clean = ttesto.dropna(subset = ['fpl_insol'])\n",
    "ttesto1_mean = ttesto1_clean['fpl_insol'].mean()\n"
   ]
  },
  {
   "cell_type": "code",
   "execution_count": 22,
   "metadata": {
    "scrolled": true
   },
   "outputs": [
    {
     "data": {
      "text/plain": [
       "Ttest_1sampResult(statistic=-2807.3974514967713, pvalue=4.893218605265058e-122)"
      ]
     },
     "execution_count": 22,
     "metadata": {},
     "output_type": "execute_result"
    }
   ],
   "source": [
    "stats.ttest_1samp(ttest1_mean, ttesto1_mean)"
   ]
  },
  {
   "cell_type": "code",
   "execution_count": 23,
   "metadata": {},
   "outputs": [],
   "source": [
    "#T Test 3\n",
    "ttest2_clean = ttest.dropna(subset = ['fpl_bmasse'])\n",
    "ttest2_mean = ttest2_clean['fpl_bmasse']"
   ]
  },
  {
   "cell_type": "code",
   "execution_count": 24,
   "metadata": {},
   "outputs": [],
   "source": [
    "ttesto2_clean = ttesto.dropna(subset = ['fpl_insol'])\n",
    "ttesto2_mean = ttesto2_clean['fpl_insol'].mean()"
   ]
  },
  {
   "cell_type": "code",
   "execution_count": 25,
   "metadata": {
    "scrolled": true
   },
   "outputs": [
    {
     "data": {
      "text/plain": [
       "Ttest_1sampResult(statistic=-375.87220976600435, pvalue=6.314662785996868e-100)"
      ]
     },
     "execution_count": 25,
     "metadata": {},
     "output_type": "execute_result"
    }
   ],
   "source": [
    "stats.ttest_1samp(ttest2_mean, ttesto2_mean)"
   ]
  },
  {
   "cell_type": "code",
   "execution_count": 26,
   "metadata": {},
   "outputs": [],
   "source": [
    "#T Test 4\n",
    "ttest3_clean = ttest.dropna(subset = ['fpl_rade'])\n",
    "ttest3_mean = ttest3_clean['fpl_rade']"
   ]
  },
  {
   "cell_type": "code",
   "execution_count": 27,
   "metadata": {},
   "outputs": [],
   "source": [
    "ttesto3_clean = ttesto.dropna(subset = ['fpl_rade'])\n",
    "ttesto3_mean = ttesto3_clean['fpl_rade'].mean()"
   ]
  },
  {
   "cell_type": "code",
   "execution_count": 28,
   "metadata": {},
   "outputs": [
    {
     "data": {
      "text/plain": [
       "Ttest_1sampResult(statistic=-57.06395588587766, pvalue=1.175241089784333e-52)"
      ]
     },
     "execution_count": 28,
     "metadata": {},
     "output_type": "execute_result"
    }
   ],
   "source": [
    "stats.ttest_1samp(ttest3_mean, ttesto3_mean)"
   ]
  },
  {
   "cell_type": "code",
   "execution_count": 29,
   "metadata": {},
   "outputs": [],
   "source": [
    "T Test 5\n",
    "ttest4_clean = ttest.dropna(subset = ['fst_optmag'])\n",
    "ttest4_mean = ttest4_clean['fst_optmag']"
   ]
  },
  {
   "cell_type": "code",
   "execution_count": 30,
   "metadata": {},
   "outputs": [],
   "source": [
    "ttesto4_clean = ttesto.dropna(subset = ['fst_optmag'])\n",
    "ttesto4_mean = ttesto4_clean['fst_optmag'].mean()"
   ]
  },
  {
   "cell_type": "code",
   "execution_count": 31,
   "metadata": {},
   "outputs": [
    {
     "data": {
      "text/plain": [
       "Ttest_1sampResult(statistic=2.453918897304653, pvalue=0.01715512153126336)"
      ]
     },
     "execution_count": 31,
     "metadata": {},
     "output_type": "execute_result"
    }
   ],
   "source": [
    "stats.ttest_1samp(ttest4_mean, ttesto4_mean)"
   ]
  },
  {
   "cell_type": "code",
   "execution_count": 32,
   "metadata": {},
   "outputs": [],
   "source": [
    "# T Test 6\n",
    "ttest5_clean = ttest.dropna(subset = ['fst_age'])\n",
    "ttest5_mean = ttest5_clean['fst_age']"
   ]
  },
  {
   "cell_type": "code",
   "execution_count": 33,
   "metadata": {},
   "outputs": [],
   "source": [
    "ttesto5_clean = ttesto.dropna(subset = ['fst_age'])\n",
    "ttesto5_mean = ttesto5_clean['fst_age'].mean()"
   ]
  },
  {
   "cell_type": "code",
   "execution_count": 34,
   "metadata": {},
   "outputs": [
    {
     "data": {
      "text/plain": [
       "Ttest_1sampResult(statistic=-0.7601683160728223, pvalue=0.4509505588036282)"
      ]
     },
     "execution_count": 34,
     "metadata": {},
     "output_type": "execute_result"
    }
   ],
   "source": [
    "stats.ttest_1samp(ttest5_mean, ttesto5_mean)"
   ]
  }
 ],
 "metadata": {
  "kernelspec": {
   "display_name": "Python 3",
   "language": "python",
   "name": "python3"
  },
  "language_info": {
   "codemirror_mode": {
    "name": "ipython",
    "version": 3
   },
   "file_extension": ".py",
   "mimetype": "text/x-python",
   "name": "python",
   "nbconvert_exporter": "python",
   "pygments_lexer": "ipython3",
   "version": "3.6.10"
  }
 },
 "nbformat": 4,
 "nbformat_minor": 4
}
