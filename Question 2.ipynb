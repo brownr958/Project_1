{
 "cells": [
  {
   "cell_type": "code",
   "execution_count": 2,
   "metadata": {},
   "outputs": [],
   "source": [
    "import requests\n",
    "import pandas as pd"
   ]
  },
  {
   "cell_type": "code",
   "execution_count": 5,
   "metadata": {},
   "outputs": [],
   "source": [
    "# Requesting confirmed planets url for facility list\n",
    "confirmed_url = 'https://exoplanetarchive.ipac.caltech.edu/cgi-bin/nstedAPI/nph-nstedAPI?table=exoplanets'\n",
    "facility = pd.read_csv(confirmed_url)\n",
    "facility_df = facility[['pl_name','pl_facility']]"
   ]
  },
  {
   "cell_type": "code",
   "execution_count": 6,
   "metadata": {},
   "outputs": [],
   "source": [
    "facility_df.to_excel(\"facility_data.xlsx\")"
   ]
  },
  {
   "cell_type": "code",
   "execution_count": 8,
   "metadata": {},
   "outputs": [
    {
     "data": {
      "text/html": [
       "<div>\n",
       "<style scoped>\n",
       "    .dataframe tbody tr th:only-of-type {\n",
       "        vertical-align: middle;\n",
       "    }\n",
       "\n",
       "    .dataframe tbody tr th {\n",
       "        vertical-align: top;\n",
       "    }\n",
       "\n",
       "    .dataframe thead th {\n",
       "        text-align: right;\n",
       "    }\n",
       "</style>\n",
       "<table border=\"1\" class=\"dataframe\">\n",
       "  <thead>\n",
       "    <tr style=\"text-align: right;\">\n",
       "      <th></th>\n",
       "      <th>pl_facility</th>\n",
       "      <th>Lat</th>\n",
       "      <th>Long</th>\n",
       "    </tr>\n",
       "  </thead>\n",
       "  <tbody>\n",
       "    <tr>\n",
       "      <th>0</th>\n",
       "      <td>HATNet</td>\n",
       "      <td>36.601309</td>\n",
       "      <td>36.1642283233397</td>\n",
       "    </tr>\n",
       "    <tr>\n",
       "      <th>1</th>\n",
       "      <td>Kepler</td>\n",
       "      <td>28.282865</td>\n",
       "      <td>76.95092702866663</td>\n",
       "    </tr>\n",
       "    <tr>\n",
       "      <th>2</th>\n",
       "      <td>Haute-Provence Observatory</td>\n",
       "      <td>43.934786</td>\n",
       "      <td>5.710468196428772</td>\n",
       "    </tr>\n",
       "    <tr>\n",
       "      <th>3</th>\n",
       "      <td>W. M. Keck Observatory</td>\n",
       "      <td>19.826183</td>\n",
       "      <td>-155.47466064445106</td>\n",
       "    </tr>\n",
       "    <tr>\n",
       "      <th>4</th>\n",
       "      <td>Okayama Astrophysical Observatory</td>\n",
       "      <td>34.576269</td>\n",
       "      <td>33.59411746924752</td>\n",
       "    </tr>\n",
       "    <tr>\n",
       "      <th>...</th>\n",
       "      <td>...</td>\n",
       "      <td>...</td>\n",
       "      <td>...</td>\n",
       "    </tr>\n",
       "    <tr>\n",
       "      <th>56</th>\n",
       "      <td>Atacama Large Millimeter Array (ALMA)</td>\n",
       "      <td>-23.023168</td>\n",
       "      <td>-67.75377985774968</td>\n",
       "    </tr>\n",
       "    <tr>\n",
       "      <th>57</th>\n",
       "      <td>Winer Observatory</td>\n",
       "      <td>31.665895</td>\n",
       "      <td>4, -110.60172521546</td>\n",
       "    </tr>\n",
       "    <tr>\n",
       "      <th>58</th>\n",
       "      <td>Haleakala Observatory</td>\n",
       "      <td>20.708474</td>\n",
       "      <td>-156.25668982909863</td>\n",
       "    </tr>\n",
       "    <tr>\n",
       "      <th>59</th>\n",
       "      <td>KOINet</td>\n",
       "      <td>-34.580319</td>\n",
       "      <td>19.351709982972494</td>\n",
       "    </tr>\n",
       "    <tr>\n",
       "      <th>60</th>\n",
       "      <td>Acton Sky Portal Observatory</td>\n",
       "      <td>NaN</td>\n",
       "      <td>NaN</td>\n",
       "    </tr>\n",
       "  </tbody>\n",
       "</table>\n",
       "<p>61 rows × 3 columns</p>\n",
       "</div>"
      ],
      "text/plain": [
       "                              pl_facility        Lat                 Long\n",
       "0                                  HATNet  36.601309     36.1642283233397\n",
       "1                                  Kepler  28.282865    76.95092702866663\n",
       "2              Haute-Provence Observatory  43.934786    5.710468196428772\n",
       "3                  W. M. Keck Observatory  19.826183  -155.47466064445106\n",
       "4       Okayama Astrophysical Observatory  34.576269    33.59411746924752\n",
       "..                                    ...        ...                  ...\n",
       "56  Atacama Large Millimeter Array (ALMA) -23.023168   -67.75377985774968\n",
       "57                      Winer Observatory  31.665895  4, -110.60172521546\n",
       "58                  Haleakala Observatory  20.708474  -156.25668982909863\n",
       "59                                 KOINet -34.580319   19.351709982972494\n",
       "60           Acton Sky Portal Observatory        NaN                  NaN\n",
       "\n",
       "[61 rows x 3 columns]"
      ]
     },
     "execution_count": 8,
     "metadata": {},
     "output_type": "execute_result"
    }
   ],
   "source": [
    "df = pd.read_excel(\"facility_data_locations.xlsx\")\n",
    "df"
   ]
  },
  {
   "cell_type": "code",
   "execution_count": null,
   "metadata": {},
   "outputs": [],
   "source": [
    "merged_facility = pd.merge(left=survey_sub, right=species_sub, how='left', left_on='species_id', right_on='species_id')"
   ]
  }
 ],
 "metadata": {
  "kernelspec": {
   "display_name": "Python 3",
   "language": "python",
   "name": "python3"
  },
  "language_info": {
   "codemirror_mode": {
    "name": "ipython",
    "version": 3
   },
   "file_extension": ".py",
   "mimetype": "text/x-python",
   "name": "python",
   "nbconvert_exporter": "python",
   "pygments_lexer": "ipython3",
   "version": "3.8.3"
  }
 },
 "nbformat": 4,
 "nbformat_minor": 4
}
